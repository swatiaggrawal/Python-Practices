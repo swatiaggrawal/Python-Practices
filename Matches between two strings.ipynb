{
 "cells": [
  {
   "cell_type": "code",
   "execution_count": null,
   "metadata": {},
   "outputs": [],
   "source": [
    "#PROGRAM TO RETURN MATCHES BETWEEN TWO STRINGS\n",
    "def matches(s1,s2):\n",
    "    l1=len(s1)\n",
    "    l2=len(s2)\n",
    "    count=0\n",
    "    if(l1>l2):\n",
    "        s1,s2=s2,s1\n",
    "    for i in range(len(s1)):\n",
    "        if s1[i]==s2[i]:\n",
    "            count+=1\n",
    "    return count\n",
    "s1=input(\"enter first string\")\n",
    "s2=input(\"enter second string\")\n",
    "count=matches(s1,s2)\n",
    "print(count)"
   ]
  }
 ],
 "metadata": {
  "kernelspec": {
   "display_name": "Python 3",
   "language": "python",
   "name": "python3"
  },
  "language_info": {
   "codemirror_mode": {
    "name": "ipython",
    "version": 3
   },
   "file_extension": ".py",
   "mimetype": "text/x-python",
   "name": "python",
   "nbconvert_exporter": "python",
   "pygments_lexer": "ipython3",
   "version": "3.8.3"
  }
 },
 "nbformat": 4,
 "nbformat_minor": 4
}
