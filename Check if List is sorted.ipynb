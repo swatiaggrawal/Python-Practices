{
 "cells": [
  {
   "cell_type": "code",
   "execution_count": null,
   "metadata": {},
   "outputs": [],
   "source": [
    "#PROGRAM TO RETURN TRUE  IF THE LIST IS SORTED OTHERWISE FALSE\n",
    "def is_sorted(lst):\n",
    "    for i in lst:\n",
    "        if lst[i+1]>lst[i]:\n",
    "            return True\n",
    "        else:\n",
    "            return False\n",
    "lst=[]\n",
    "n=int(input(\"enter length of list\"))\n",
    "for j in range(0,n):\n",
    "    num=int(input(\"enter the numbers:\"))\n",
    "    lst.append(num)\n",
    "print(lst)\n",
    "print(is_sorted(lst))"
   ]
  }
 ],
 "metadata": {
  "kernelspec": {
   "display_name": "Python 3",
   "language": "python",
   "name": "python3"
  },
  "language_info": {
   "codemirror_mode": {
    "name": "ipython",
    "version": 3
   },
   "file_extension": ".py",
   "mimetype": "text/x-python",
   "name": "python",
   "nbconvert_exporter": "python",
   "pygments_lexer": "ipython3",
   "version": "3.8.3"
  }
 },
 "nbformat": 4,
 "nbformat_minor": 4
}
