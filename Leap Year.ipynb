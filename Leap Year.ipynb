{
 "cells": [
  {
   "cell_type": "code",
   "execution_count": null,
   "metadata": {},
   "outputs": [],
   "source": [
    "\"\"\"\n",
    "A YEAR IS A LEAP YEAR IF IT IS DIVISIBLE BY 4,\n",
    "EXCEPT THAT YEARS DIVISIBLE BY 100 ARE NOT LEAP YEARS\n",
    "UNLESS THEY ARE DIVISIBLE BY 400.\n",
    "\"\"\"\n",
    "\n",
    "start=int(input(\"Enter the start year:\"))\n",
    "end=int(input(\"Enter the last year:\"))\n",
    "count=0\n",
    "for year in range(start,end):\n",
    "    if (year%4==0) and (year%100!=0) or (year%400==0):\n",
    "        count+=1\n",
    "        print(year)"
   ]
  }
 ],
 "metadata": {
  "kernelspec": {
   "display_name": "Python 3",
   "language": "python",
   "name": "python3"
  },
  "language_info": {
   "codemirror_mode": {
    "name": "ipython",
    "version": 3
   },
   "file_extension": ".py",
   "mimetype": "text/x-python",
   "name": "python",
   "nbconvert_exporter": "python",
   "pygments_lexer": "ipython3",
   "version": "3.8.3"
  }
 },
 "nbformat": 4,
 "nbformat_minor": 4
}
