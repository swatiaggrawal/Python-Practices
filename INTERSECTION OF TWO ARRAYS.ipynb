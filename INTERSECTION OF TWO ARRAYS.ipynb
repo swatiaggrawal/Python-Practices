{
 "cells": [
  {
   "cell_type": "code",
   "execution_count": null,
   "metadata": {},
   "outputs": [],
   "source": [
    "#PROGRAM TO PRINT THE INTERSECTION OF TWO ARRAYS\n",
    "def func(a1,a2): #function definition\n",
    "    result=list(filter(lambda x:x in a1,a2)) #lambda function\n",
    "    print(\"intersection:\",result) #output\n",
    "if __name__==\"__main__\":\n",
    "    a1=[]\n",
    "    a2=[]\n",
    "    n1=int(input(\"enter length of first array\"))\n",
    "    n2=int(input(\"enter length of second array\"))\n",
    "    for i in range(0,n1):\n",
    "        num=int(input(\"enter the elements for first array:\")) #input array 1\n",
    "        a1.append(num)\n",
    "    print(a1)\n",
    "    for j in range(0,n2):\n",
    "        num=int(input(\"enter the elements for the second array:\")) #input array 2\n",
    "        a2.append(num)\n",
    "    print(a2)    \n",
    "func(a1,a2)    #function call\n",
    "    "
   ]
  }
 ],
 "metadata": {
  "kernelspec": {
   "display_name": "Python 3",
   "language": "python",
   "name": "python3"
  },
  "language_info": {
   "codemirror_mode": {
    "name": "ipython",
    "version": 3
   },
   "file_extension": ".py",
   "mimetype": "text/x-python",
   "name": "python",
   "nbconvert_exporter": "python",
   "pygments_lexer": "ipython3",
   "version": "3.8.3"
  }
 },
 "nbformat": 4,
 "nbformat_minor": 4
}
