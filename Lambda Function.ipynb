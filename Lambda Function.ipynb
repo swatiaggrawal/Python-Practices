{
 "cells": [
  {
   "cell_type": "code",
   "execution_count": null,
   "metadata": {},
   "outputs": [],
   "source": [
    "#PROGRAM TO PRINT LIST OF NUMBER DIVISIBLE BY 3 0R 9 USING LAMBDA FUNCTION\n",
    "x = [] \n",
    "n = int(input(\"Enter number of elements : \")) \n",
    "for i in range(0, n): \n",
    "    ele = int(input()) \n",
    "    x.append(ele)\n",
    "print(x)    \n",
    "    \n",
    "\n",
    "for p in x:    \n",
    "    y1 = list(filter(lambda p: (p%3 == 0) , x))\n",
    "for p in x:      \n",
    "    y2= list(filter(lambda p: (p%9 == 0) , x))\n",
    "print(\"list of numbers divisible by 3\",y1)\n",
    "print(\"list of numbers divisible by 9\",y2)\n"
   ]
  }
 ],
 "metadata": {
  "kernelspec": {
   "display_name": "Python 3",
   "language": "python",
   "name": "python3"
  },
  "language_info": {
   "codemirror_mode": {
    "name": "ipython",
    "version": 3
   },
   "file_extension": ".py",
   "mimetype": "text/x-python",
   "name": "python",
   "nbconvert_exporter": "python",
   "pygments_lexer": "ipython3",
   "version": "3.8.3"
  }
 },
 "nbformat": 4,
 "nbformat_minor": 4
}
