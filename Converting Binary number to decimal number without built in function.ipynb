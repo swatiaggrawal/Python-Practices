{
 "cells": [
  {
   "cell_type": "code",
   "execution_count": null,
   "metadata": {},
   "outputs": [],
   "source": [
    "#PROGRAM TO CONVERT BINARY NUMBER TO DECIMAL NUMBER\n",
    "num_bin_str=str(input(\"ENTER THE NUMBER IN BINARY FORM\"))\n",
    "num_bin=list(num_bin_str)\n",
    "num_bin.reverse()\n",
    "i=len(num_bin)\n",
    "i=i-1\n",
    "decimal=0\n",
    "a=0\n",
    "while a<i:\n",
    "    decimal+=((2**a)*int(num_bin[a]))\n",
    "    a+=1\n",
    "print(\"EQUIVALENT NUMBER IN DECIMAL IS:\",decimal)"
   ]
  }
 ],
 "metadata": {
  "kernelspec": {
   "display_name": "Python 3",
   "language": "python",
   "name": "python3"
  },
  "language_info": {
   "codemirror_mode": {
    "name": "ipython",
    "version": 3
   },
   "file_extension": ".py",
   "mimetype": "text/x-python",
   "name": "python",
   "nbconvert_exporter": "python",
   "pygments_lexer": "ipython3",
   "version": "3.8.3"
  }
 },
 "nbformat": 4,
 "nbformat_minor": 4
}
