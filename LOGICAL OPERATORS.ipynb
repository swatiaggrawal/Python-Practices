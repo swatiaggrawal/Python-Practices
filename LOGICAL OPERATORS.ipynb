{
 "cells": [
  {
   "cell_type": "code",
   "execution_count": null,
   "metadata": {},
   "outputs": [],
   "source": [
    "#PROGRAM TO DEMONSTRATE THE USE OF LOGICAL OPERATORS\n",
    "a=1\n",
    "b=0\n",
    "print(\"AND\",a and b)\n",
    "print(\"OR\",a or b)\n",
    "print(\"NOT\",not b)"
   ]
  }
 ],
 "metadata": {
  "kernelspec": {
   "display_name": "Python 3",
   "language": "python",
   "name": "python3"
  },
  "language_info": {
   "codemirror_mode": {
    "name": "ipython",
    "version": 3
   },
   "file_extension": ".py",
   "mimetype": "text/x-python",
   "name": "python",
   "nbconvert_exporter": "python",
   "pygments_lexer": "ipython3",
   "version": "3.8.3"
  }
 },
 "nbformat": 4,
 "nbformat_minor": 4
}
