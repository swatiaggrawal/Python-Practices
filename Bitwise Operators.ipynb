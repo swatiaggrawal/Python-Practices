{
 "cells": [
  {
   "cell_type": "code",
   "execution_count": null,
   "metadata": {},
   "outputs": [],
   "source": [
    "#PROGRAM TO DEMONSTRATE THE USE OF BITWISE OPERATORS\n",
    "a=10 #00001010\n",
    "b=4  #00000100\n",
    "print(\"AND\",a&b)\n",
    "print(\"OR\",a|b)\n",
    "print(\"NOT\",~b)\n",
    "print(\"XOR\",a^b)\n",
    "print(\"RIGHT SHIFT\",a>>2)\n",
    "print(\"LEFT SHIFT\",a<<2)"
   ]
  }
 ],
 "metadata": {
  "kernelspec": {
   "display_name": "Python 3",
   "language": "python",
   "name": "python3"
  },
  "language_info": {
   "codemirror_mode": {
    "name": "ipython",
    "version": 3
   },
   "file_extension": ".py",
   "mimetype": "text/x-python",
   "name": "python",
   "nbconvert_exporter": "python",
   "pygments_lexer": "ipython3",
   "version": "3.8.3"
  }
 },
 "nbformat": 4,
 "nbformat_minor": 4
}
