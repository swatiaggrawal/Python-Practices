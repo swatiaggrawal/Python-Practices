{
 "cells": [
  {
   "cell_type": "code",
   "execution_count": null,
   "metadata": {},
   "outputs": [],
   "source": [
    "#PROGRAM TO PRINT ANAGRAMS OF A STRING IN A GIVEN LIST OF STRINGS\n",
    "from collections import Counter #using collections library\n",
    "lst=[\"life\",\"efil\",\"mylife\",\"python\"]\n",
    "str=\"feil\"\n",
    "result=list(filter(lambda x: (Counter(str)== Counter(x)),lst))  #lambda function\n",
    "print(result) #output\n"
   ]
  }
 ],
 "metadata": {
  "kernelspec": {
   "display_name": "Python 3",
   "language": "python",
   "name": "python3"
  },
  "language_info": {
   "codemirror_mode": {
    "name": "ipython",
    "version": 3
   },
   "file_extension": ".py",
   "mimetype": "text/x-python",
   "name": "python",
   "nbconvert_exporter": "python",
   "pygments_lexer": "ipython3",
   "version": "3.8.3"
  }
 },
 "nbformat": 4,
 "nbformat_minor": 4
}
