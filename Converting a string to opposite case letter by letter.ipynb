{
 "cells": [
  {
   "cell_type": "code",
   "execution_count": null,
   "metadata": {},
   "outputs": [],
   "source": [
    "#PROGRAM TO CONVERT STRING TO OPPOSITE CASE  LETTER BY LETTER\n",
    "str1=[ ]\n",
    "str3=\" \"\n",
    "def upperlower(str1):\n",
    "    str2=[ ]\n",
    "    for i in range(len(str1)):\n",
    "        k=ord(str1[i])\n",
    "        # For lower letters\n",
    "        if 97 <= k <= 122:\n",
    "            k = k-32\n",
    "            l=chr(k)\n",
    "            str2.append(l)\n",
    "\n",
    "        # For upper letters\n",
    "        elif 65 <= k <= 90 :\n",
    "            k = k +32\n",
    "            l=chr(k)\n",
    "            str2.append(l)\n",
    "\n",
    "    new = \"\"\n",
    "\n",
    "    # traverse in the string\n",
    "    for x in str2:\n",
    "        new += x\n",
    "\n",
    "        # return string\n",
    "    print(new)\n",
    "\n",
    "\n",
    "# Driver Code\n",
    "str1=input(\"enter string\")\n",
    "upperlower(str1)\n"
   ]
  }
 ],
 "metadata": {
  "kernelspec": {
   "display_name": "Python 3",
   "language": "python",
   "name": "python3"
  },
  "language_info": {
   "codemirror_mode": {
    "name": "ipython",
    "version": 3
   },
   "file_extension": ".py",
   "mimetype": "text/x-python",
   "name": "python",
   "nbconvert_exporter": "python",
   "pygments_lexer": "ipython3",
   "version": "3.8.3"
  }
 },
 "nbformat": 4,
 "nbformat_minor": 4
}
