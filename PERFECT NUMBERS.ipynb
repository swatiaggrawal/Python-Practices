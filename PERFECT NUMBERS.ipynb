{
 "cells": [
  {
   "cell_type": "code",
   "execution_count": null,
   "metadata": {},
   "outputs": [],
   "source": [
    "#TO FIND ALL FOUR OF THE PERFECT NUMBERS THAT ARE LESS THAN 10000\n",
    "def print_perfect_nums(start,end):\n",
    "#Perfect number, a positive integer that is equal to the sum of its proper divisors\n",
    "    for i in range(start,end+1):\n",
    "        sum=0\n",
    "        for x in range(1,i):\n",
    "            if(i % x==0):\n",
    "                sum = sum + x\n",
    "                if (sum==i):\n",
    "                    print(i)\n",
    "print_perfect_nums(1,10000)\n"
   ]
  }
 ],
 "metadata": {
  "kernelspec": {
   "display_name": "Python 3",
   "language": "python",
   "name": "python3"
  },
  "language_info": {
   "codemirror_mode": {
    "name": "ipython",
    "version": 3
   },
   "file_extension": ".py",
   "mimetype": "text/x-python",
   "name": "python",
   "nbconvert_exporter": "python",
   "pygments_lexer": "ipython3",
   "version": "3.8.3"
  }
 },
 "nbformat": 4,
 "nbformat_minor": 4
}
