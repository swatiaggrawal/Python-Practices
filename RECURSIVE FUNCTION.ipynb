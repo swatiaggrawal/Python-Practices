{
 "cells": [
  {
   "cell_type": "code",
   "execution_count": null,
   "metadata": {},
   "outputs": [],
   "source": [
    "#PROGRAM TO PRINT SUM OF ELEMENTS IN A LIST USING RECURSIVE FUNCTION\n",
    "x = [] \n",
    "n = int(input(\"Enter number of elements : \")) \n",
    "for i in range(0, n): \n",
    "    ele = int(input()) \n",
    "    x.append(ele)\n",
    "def add(x):\n",
    "    if not x:\n",
    "        return 0\n",
    "    else:\n",
    "        return x[0] + add(x[1:])     \n",
    "sum=add(x)\n",
    "print(\"sum of all elements is\",sum)"
   ]
  }
 ],
 "metadata": {
  "kernelspec": {
   "display_name": "Python 3",
   "language": "python",
   "name": "python3"
  },
  "language_info": {
   "codemirror_mode": {
    "name": "ipython",
    "version": 3
   },
   "file_extension": ".py",
   "mimetype": "text/x-python",
   "name": "python",
   "nbconvert_exporter": "python",
   "pygments_lexer": "ipython3",
   "version": "3.8.3"
  }
 },
 "nbformat": 4,
 "nbformat_minor": 4
}
